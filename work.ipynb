{
 "cells": [
  {
   "cell_type": "code",
   "execution_count": 1,
   "metadata": {},
   "outputs": [],
   "source": [
    "import requests\n",
    "from bs4 import BeautifulSoup as BS\n",
    "import codecs\n",
    "import time\n",
    "session = requests.Session()\n",
    "headers = {'User-Agent': 'Mozilla/5.0 (Windows NT 5.1; rv:47.0) Gecko/20100101 Firefox/47.0',\n",
    "           'Accept':'text/html,application/xhtml+xml,application/xml;q=0.9,*/*;q=0.8'\n",
    "    }\n",
    "base_url = 'https://www.work.ua/jobs-kyiv-python/'\n",
    "\n",
    "domain = 'https://www.work.ua'\n",
    "jobs = []\n",
    "urls = []\n",
    "urls.append(base_url)\n",
    "req = session.get(base_url, headers=headers)\n",
    "if req.status_code == 200:\n",
    "    bsObj = BS(req.content, \"html.parser\")\n",
    "    pagination = bsObj.find('ul', attrs={'class': 'pagination'})\n",
    "    if pagination:\n",
    "        pages = pagination.find_all('li', attrs={'class': False})\n",
    "        for page in pages:\n",
    "            urls.append(domain + page.a['href'])\n",
    "\n",
    "for url in urls:\n",
    "    time.sleep(2)\n",
    "    req = session.get(url, headers=headers)\n",
    "    if req.status_code == 200:\n",
    "        bsObj = BS(req.content, \"html.parser\")\n",
    "        div_list = bsObj.find_all('div', attrs={'class': 'job-link'})\n",
    "        for div in div_list:\n",
    "            title = div.find('h2')\n",
    "            href = title.a['href']\n",
    "            short = div.p.text\n",
    "            company = \"No name\"\n",
    "            logo = div.find('img')\n",
    "            if logo:\n",
    "                company = logo['alt']\n",
    "            jobs.append({'href': domain + href,\n",
    "                        'title': title.text, \n",
    "                        'descript': short,\n",
    "                        'company': company})\n",
    "    \n",
    "    # print(div.find('p', attrs={'class': 'overflow'}).text)\n",
    "# data = bsObj.prettify()#.encode('utf8')\n",
    "template = '<!doctype html><html lang=\"en\"><head><meta charset=\"utf-8\"></head><body>'\n",
    "end = '</body></html>'\n",
    "content = '<h2> Work.ua</h2>'\n",
    "for job in jobs:\n",
    "    content += '<a href=\"{href}\" target=\"_blank\">{title}</a><br/><p>{descript}</p><p>{company}</p><br/>'.format(**job)\n",
    "    content += '<hr/><br/><br/>'\n",
    "data = template + content + end\n",
    "handle = codecs.open('jobs.html', \"w\", 'utf-8')\n",
    "handle.write(str(data))\n",
    "handle.close() \n",
    "\n"
   ]
  },
  {
   "cell_type": "code",
   "execution_count": 2,
   "metadata": {},
   "outputs": [
    {
     "name": "stdout",
     "output_type": "stream",
     "text": [
      "\n",
      "            Неповна зайнятість. Досвід роботи від 5 років.\n",
      "                            ЕОЦ «ПРОГРЕСС» — открывает вакансию на должность Преподавателя курсов «C++», «C#», «Python» Требования:…⁠\n",
      "\n"
     ]
    }
   ],
   "source": [
    "print(div.find('p', attrs={'class': 'overflow'}).text)"
   ]
  },
  {
   "cell_type": "code",
   "execution_count": 3,
   "metadata": {},
   "outputs": [
    {
     "data": {
      "text/plain": [
       "<h2 class=\"\">\n",
       "<a href=\"/jobs/3750419/\" title=\"Преподаватель курсов Python, вакансія від 22 травня 2020\">Преподаватель курсов Python</a>\n",
       "</h2>"
      ]
     },
     "execution_count": 3,
     "metadata": {},
     "output_type": "execute_result"
    }
   ],
   "source": [
    "title"
   ]
  },
  {
   "cell_type": "code",
   "execution_count": null,
   "metadata": {},
   "outputs": [],
   "source": []
  }
 ],
 "metadata": {
  "kernelspec": {
   "display_name": "Python 3",
   "language": "python",
   "name": "python3"
  },
  "language_info": {
   "codemirror_mode": {
    "name": "ipython",
    "version": 3
   },
   "file_extension": ".py",
   "mimetype": "text/x-python",
   "name": "python",
   "nbconvert_exporter": "python",
   "pygments_lexer": "ipython3",
   "version": "3.8.2"
  }
 },
 "nbformat": 4,
 "nbformat_minor": 4
}
